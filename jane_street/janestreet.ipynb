{
 "cells": [
  {
   "cell_type": "code",
   "execution_count": 1,
   "metadata": {
    "collapsed": true
   },
   "outputs": [
    {
     "data": {
      "text/plain": "<IPython.core.display.HTML object>",
      "text/html": "<style type='text/css'>\n.datatable table.frame { margin-bottom: 0; }\n.datatable table.frame thead { border-bottom: none; }\n.datatable table.frame tr.coltypes td {  color: #FFFFFF;  line-height: 6px;  padding: 0 0.5em;}\n.datatable .bool    { background: #DDDD99; }\n.datatable .object  { background: #565656; }\n.datatable .int     { background: #5D9E5D; }\n.datatable .float   { background: #4040CC; }\n.datatable .str     { background: #CC4040; }\n.datatable .row_index {  background: var(--jp-border-color3);  border-right: 1px solid var(--jp-border-color0);  color: var(--jp-ui-font-color3);  font-size: 9px;}\n.datatable .frame tr.coltypes .row_index {  background: var(--jp-border-color0);}\n.datatable th:nth-child(2) { padding-left: 12px; }\n.datatable .hellipsis {  color: var(--jp-cell-editor-border-color);}\n.datatable .vellipsis {  background: var(--jp-layout-color0);  color: var(--jp-cell-editor-border-color);}\n.datatable .na {  color: var(--jp-cell-editor-border-color);  font-size: 80%;}\n.datatable .footer { font-size: 9px; }\n.datatable .frame_dimensions {  background: var(--jp-border-color3);  border-top: 1px solid var(--jp-border-color0);  color: var(--jp-ui-font-color3);  display: inline-block;  opacity: 0.6;  padding: 1px 10px 1px 5px;}\n.datatable .frame thead tr.colnames {  background-image: url('data:image/png;base64,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');  background-repeat: repeat-x;  background-size: 14px;  height: 28px;}\n</style>\n"
     },
     "metadata": {},
     "output_type": "display_data"
    }
   ],
   "source": [
    "import datatable as dt\n",
    "import pandas as pd\n",
    "import xgboost as xgb"
   ]
  },
  {
   "cell_type": "markdown",
   "source": [
    "- copy from [Yirun Zhang](https://www.kaggle.com/gogo827jz/jane-street-xgboost-grouptimesplitkfold)"
   ],
   "metadata": {
    "collapsed": false,
    "pycharm": {
     "name": "#%% md\n"
    }
   }
  },
  {
   "cell_type": "code",
   "execution_count": 2,
   "outputs": [
    {
     "name": "stdout",
     "output_type": "stream",
     "text": [
      "CPU times: user 29.6 s, sys: 18.2 s, total: 47.8 s\n",
      "Wall time: 10.2 s\n"
     ]
    }
   ],
   "source": [
    "%%time\n",
    "train_data_datatable = dt.fread('~/env/kaggle/janestreet/train.csv')\n",
    "train_data = train_data_datatable.to_pandas()"
   ],
   "metadata": {
    "collapsed": false,
    "pycharm": {
     "name": "#%%\n"
    }
   }
  },
  {
   "cell_type": "code",
   "execution_count": 3,
   "outputs": [
    {
     "name": "stdout",
     "output_type": "stream",
     "text": [
      "CPU times: user 10.3 s, sys: 2.64 s, total: 12.9 s\n",
      "Wall time: 13.3 s\n"
     ]
    },
    {
     "data": {
      "text/plain": "               date        weight        resp_1        resp_2        resp_3  \\\ncount  1.981287e+06  1.981287e+06  1.981287e+06  1.981287e+06  1.981287e+06   \nmean   2.526263e+02  3.657652e+00  1.519922e-04  2.124634e-04  3.074072e-04   \nstd    1.512144e+02  8.291001e+00  9.324476e-03  1.285641e-02  1.991720e-02   \nmin    0.000000e+00  6.912442e-03 -3.675043e-01 -5.328334e-01 -5.681196e-01   \n25%    1.130000e+02  3.786683e-01 -1.939318e-03 -2.777549e-03 -5.248402e-03   \n50%    2.610000e+02  1.072844e+00  4.759053e-05  7.172624e-05  1.235709e-04   \n75%    3.850000e+02  3.196557e+00  2.193924e-03  3.078691e-03  5.710722e-03   \nmax    4.990000e+02  1.672937e+02  2.453477e-01  2.949339e-01  3.265597e-01   \n\n             resp_4          resp     feature_0     feature_1     feature_2  \\\ncount  1.981287e+06  1.981287e+06  1.981287e+06  1.981287e+06  1.981287e+06   \nmean   5.020192e-04  4.721902e-04  5.960267e-03  5.035693e-01  4.236199e-01   \nstd    3.436747e-02  2.816607e-02  9.999825e-01  2.623796e+00  2.513707e+00   \nmin   -5.987447e-01 -5.493845e-01 -1.000000e+00 -3.172026e+00 -3.093182e+00   \n25%   -9.680324e-03 -7.466364e-03 -1.000000e+00 -1.195116e+00 -1.206613e+00   \n50%    1.353374e-04  9.596080e-05  1.000000e+00  1.572825e-01  1.039031e-01   \n75%    1.023963e-02  7.903929e-03  1.000000e+00  1.756368e+00  1.645332e+00   \nmax    5.113795e-01  4.484616e-01  1.000000e+00  7.442989e+01  1.480763e+02   \n\n       ...   feature_122   feature_123   feature_124   feature_125  \\\ncount  ...  1.981139e+06  1.981139e+06  1.969414e+06  1.969414e+06   \nmean   ...  4.582973e-01  1.754965e-01  4.503705e-01  1.644199e-01   \nstd    ...  2.116926e+00  1.897661e+00  1.765243e+00  2.182138e+00   \nmin    ... -5.647779e+00 -6.029281e+00 -4.080720e+00 -8.136407e+00   \n25%    ... -1.028427e+00 -1.012458e+00 -8.189171e-01 -1.245990e+00   \n50%    ...  1.379693e-01 -9.741442e-02  1.448302e-01 -6.605669e-02   \n75%    ...  1.555857e+00  1.181069e+00  1.366768e+00  1.301766e+00   \nmax    ...  4.812516e+01  1.241175e+02  6.514517e+01  7.052807e+01   \n\n        feature_126   feature_127   feature_128   feature_129         ts_id  \\\ncount  1.974795e+06  1.974795e+06  1.979918e+06  1.979918e+06  1.981287e+06   \nmean   5.067359e-01  1.590565e-01  4.812592e-01  1.604972e-01  1.216696e+06   \nstd    2.559638e+00  1.748438e+00  2.336166e+00  1.712709e+00  6.853098e+05   \nmin   -7.903043e+00 -5.765982e+00 -7.024909e+00 -5.129002e+00  1.000000e+00   \n25%   -1.299109e+00 -9.358700e-01 -1.163105e+00 -9.021064e-01  6.300985e+05   \n50%    2.072707e-01 -6.179322e-02  1.693839e-01 -7.633027e-02  1.226025e+06   \n75%    1.958822e+00  1.018834e+00  1.751426e+00  1.019705e+00  1.810380e+06   \nmax    5.872849e+01  6.932221e+01  5.119038e+01  1.164568e+02  2.390489e+06   \n\n             action  \ncount  1.981287e+06  \nmean   5.044130e-01  \nstd    4.999807e-01  \nmin    0.000000e+00  \n25%    0.000000e+00  \n50%    1.000000e+00  \n75%    1.000000e+00  \nmax    1.000000e+00  \n\n[8 rows x 139 columns]",
      "text/html": "<div>\n<style scoped>\n    .dataframe tbody tr th:only-of-type {\n        vertical-align: middle;\n    }\n\n    .dataframe tbody tr th {\n        vertical-align: top;\n    }\n\n    .dataframe thead th {\n        text-align: right;\n    }\n</style>\n<table border=\"1\" class=\"dataframe\">\n  <thead>\n    <tr style=\"text-align: right;\">\n      <th></th>\n      <th>date</th>\n      <th>weight</th>\n      <th>resp_1</th>\n      <th>resp_2</th>\n      <th>resp_3</th>\n      <th>resp_4</th>\n      <th>resp</th>\n      <th>feature_0</th>\n      <th>feature_1</th>\n      <th>feature_2</th>\n      <th>...</th>\n      <th>feature_122</th>\n      <th>feature_123</th>\n      <th>feature_124</th>\n      <th>feature_125</th>\n      <th>feature_126</th>\n      <th>feature_127</th>\n      <th>feature_128</th>\n      <th>feature_129</th>\n      <th>ts_id</th>\n      <th>action</th>\n    </tr>\n  </thead>\n  <tbody>\n    <tr>\n      <th>count</th>\n      <td>1.981287e+06</td>\n      <td>1.981287e+06</td>\n      <td>1.981287e+06</td>\n      <td>1.981287e+06</td>\n      <td>1.981287e+06</td>\n      <td>1.981287e+06</td>\n      <td>1.981287e+06</td>\n      <td>1.981287e+06</td>\n      <td>1.981287e+06</td>\n      <td>1.981287e+06</td>\n      <td>...</td>\n      <td>1.981139e+06</td>\n      <td>1.981139e+06</td>\n      <td>1.969414e+06</td>\n      <td>1.969414e+06</td>\n      <td>1.974795e+06</td>\n      <td>1.974795e+06</td>\n      <td>1.979918e+06</td>\n      <td>1.979918e+06</td>\n      <td>1.981287e+06</td>\n      <td>1.981287e+06</td>\n    </tr>\n    <tr>\n      <th>mean</th>\n      <td>2.526263e+02</td>\n      <td>3.657652e+00</td>\n      <td>1.519922e-04</td>\n      <td>2.124634e-04</td>\n      <td>3.074072e-04</td>\n      <td>5.020192e-04</td>\n      <td>4.721902e-04</td>\n      <td>5.960267e-03</td>\n      <td>5.035693e-01</td>\n      <td>4.236199e-01</td>\n      <td>...</td>\n      <td>4.582973e-01</td>\n      <td>1.754965e-01</td>\n      <td>4.503705e-01</td>\n      <td>1.644199e-01</td>\n      <td>5.067359e-01</td>\n      <td>1.590565e-01</td>\n      <td>4.812592e-01</td>\n      <td>1.604972e-01</td>\n      <td>1.216696e+06</td>\n      <td>5.044130e-01</td>\n    </tr>\n    <tr>\n      <th>std</th>\n      <td>1.512144e+02</td>\n      <td>8.291001e+00</td>\n      <td>9.324476e-03</td>\n      <td>1.285641e-02</td>\n      <td>1.991720e-02</td>\n      <td>3.436747e-02</td>\n      <td>2.816607e-02</td>\n      <td>9.999825e-01</td>\n      <td>2.623796e+00</td>\n      <td>2.513707e+00</td>\n      <td>...</td>\n      <td>2.116926e+00</td>\n      <td>1.897661e+00</td>\n      <td>1.765243e+00</td>\n      <td>2.182138e+00</td>\n      <td>2.559638e+00</td>\n      <td>1.748438e+00</td>\n      <td>2.336166e+00</td>\n      <td>1.712709e+00</td>\n      <td>6.853098e+05</td>\n      <td>4.999807e-01</td>\n    </tr>\n    <tr>\n      <th>min</th>\n      <td>0.000000e+00</td>\n      <td>6.912442e-03</td>\n      <td>-3.675043e-01</td>\n      <td>-5.328334e-01</td>\n      <td>-5.681196e-01</td>\n      <td>-5.987447e-01</td>\n      <td>-5.493845e-01</td>\n      <td>-1.000000e+00</td>\n      <td>-3.172026e+00</td>\n      <td>-3.093182e+00</td>\n      <td>...</td>\n      <td>-5.647779e+00</td>\n      <td>-6.029281e+00</td>\n      <td>-4.080720e+00</td>\n      <td>-8.136407e+00</td>\n      <td>-7.903043e+00</td>\n      <td>-5.765982e+00</td>\n      <td>-7.024909e+00</td>\n      <td>-5.129002e+00</td>\n      <td>1.000000e+00</td>\n      <td>0.000000e+00</td>\n    </tr>\n    <tr>\n      <th>25%</th>\n      <td>1.130000e+02</td>\n      <td>3.786683e-01</td>\n      <td>-1.939318e-03</td>\n      <td>-2.777549e-03</td>\n      <td>-5.248402e-03</td>\n      <td>-9.680324e-03</td>\n      <td>-7.466364e-03</td>\n      <td>-1.000000e+00</td>\n      <td>-1.195116e+00</td>\n      <td>-1.206613e+00</td>\n      <td>...</td>\n      <td>-1.028427e+00</td>\n      <td>-1.012458e+00</td>\n      <td>-8.189171e-01</td>\n      <td>-1.245990e+00</td>\n      <td>-1.299109e+00</td>\n      <td>-9.358700e-01</td>\n      <td>-1.163105e+00</td>\n      <td>-9.021064e-01</td>\n      <td>6.300985e+05</td>\n      <td>0.000000e+00</td>\n    </tr>\n    <tr>\n      <th>50%</th>\n      <td>2.610000e+02</td>\n      <td>1.072844e+00</td>\n      <td>4.759053e-05</td>\n      <td>7.172624e-05</td>\n      <td>1.235709e-04</td>\n      <td>1.353374e-04</td>\n      <td>9.596080e-05</td>\n      <td>1.000000e+00</td>\n      <td>1.572825e-01</td>\n      <td>1.039031e-01</td>\n      <td>...</td>\n      <td>1.379693e-01</td>\n      <td>-9.741442e-02</td>\n      <td>1.448302e-01</td>\n      <td>-6.605669e-02</td>\n      <td>2.072707e-01</td>\n      <td>-6.179322e-02</td>\n      <td>1.693839e-01</td>\n      <td>-7.633027e-02</td>\n      <td>1.226025e+06</td>\n      <td>1.000000e+00</td>\n    </tr>\n    <tr>\n      <th>75%</th>\n      <td>3.850000e+02</td>\n      <td>3.196557e+00</td>\n      <td>2.193924e-03</td>\n      <td>3.078691e-03</td>\n      <td>5.710722e-03</td>\n      <td>1.023963e-02</td>\n      <td>7.903929e-03</td>\n      <td>1.000000e+00</td>\n      <td>1.756368e+00</td>\n      <td>1.645332e+00</td>\n      <td>...</td>\n      <td>1.555857e+00</td>\n      <td>1.181069e+00</td>\n      <td>1.366768e+00</td>\n      <td>1.301766e+00</td>\n      <td>1.958822e+00</td>\n      <td>1.018834e+00</td>\n      <td>1.751426e+00</td>\n      <td>1.019705e+00</td>\n      <td>1.810380e+06</td>\n      <td>1.000000e+00</td>\n    </tr>\n    <tr>\n      <th>max</th>\n      <td>4.990000e+02</td>\n      <td>1.672937e+02</td>\n      <td>2.453477e-01</td>\n      <td>2.949339e-01</td>\n      <td>3.265597e-01</td>\n      <td>5.113795e-01</td>\n      <td>4.484616e-01</td>\n      <td>1.000000e+00</td>\n      <td>7.442989e+01</td>\n      <td>1.480763e+02</td>\n      <td>...</td>\n      <td>4.812516e+01</td>\n      <td>1.241175e+02</td>\n      <td>6.514517e+01</td>\n      <td>7.052807e+01</td>\n      <td>5.872849e+01</td>\n      <td>6.932221e+01</td>\n      <td>5.119038e+01</td>\n      <td>1.164568e+02</td>\n      <td>2.390489e+06</td>\n      <td>1.000000e+00</td>\n    </tr>\n  </tbody>\n</table>\n<p>8 rows × 139 columns</p>\n</div>"
     },
     "execution_count": 3,
     "metadata": {},
     "output_type": "execute_result"
    }
   ],
   "source": [
    "%%time\n",
    "train = train_data.query('weight > 0').reset_index(drop = True)\n",
    "train['action'] = (train['resp'] > 0).astype('int')\n",
    "train.describe()\n"
   ],
   "metadata": {
    "collapsed": false,
    "pycharm": {
     "name": "#%%\n"
    }
   }
  },
  {
   "cell_type": "code",
   "execution_count": 4,
   "outputs": [],
   "source": [
    "features = [c for c in train.columns if 'feature' in c]"
   ],
   "metadata": {
    "collapsed": false,
    "pycharm": {
     "name": "#%%\n"
    }
   }
  }
 ],
 "metadata": {
  "kernelspec": {
   "display_name": "Python 3",
   "language": "python",
   "name": "python3"
  },
  "language_info": {
   "codemirror_mode": {
    "name": "ipython",
    "version": 2
   },
   "file_extension": ".py",
   "mimetype": "text/x-python",
   "name": "python",
   "nbconvert_exporter": "python",
   "pygments_lexer": "ipython2",
   "version": "2.7.6"
  }
 },
 "nbformat": 4,
 "nbformat_minor": 0
}